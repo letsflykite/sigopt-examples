{
 "cells": [
  {
   "cell_type": "markdown",
   "metadata": {},
   "source": [
    "SigOpt NBA Over/Under Model\n",
    "-------------------------\n",
    "\n",
    "For more information, see the blog post here: http://blog.sigopt.com/post/136340340198/sigopt-for-ml-using-model-tuning-to-beat-vegas\n",
    "\n",
    "Learn more about how SigOpt works at https://sigopt.com/research"
   ]
  },
  {
   "cell_type": "code",
   "execution_count": 1,
   "metadata": {},
   "outputs": [],
   "source": [
    "from predictor.stand_alone import run_example\n",
    "# Warning, this can take a very long time (many hours)\n",
    "#EXPERIMENT_ID = run_example()\n",
    "EXPERIMENT_ID = 1545 # Put your experiment ID here if you have already run stand_alone"
   ]
  },
  {
   "cell_type": "markdown",
   "metadata": {},
   "source": [
    "After the model has gone through training and tuning we can use SigOpt to grab the best values of the feature parameters and hyperparamters."
   ]
  },
  {
   "cell_type": "code",
   "execution_count": 3,
   "metadata": {},
   "outputs": [],
   "source": [
    "import sigopt\n",
    "import os\n",
    "\n",
    "# Find your SigOpt creds at https://sigopt.com/tokens\n",
    "if 'SIGOPT_API_TOKEN' in os.environ:\n",
    "    SIGOPT_API_TOKEN = os.environ['SIGOPT_API_TOKEN']\n",
    "else:\n",
    "    SIGOPT_API_TOKEN = 'PEMFNDZGOPVUADJRFBIEAPLCICJXLYXMBNETZFGBDXFVGYIP'\n",
    "    \n",
    "assert SIGOPT_API_TOKEN is not None\n",
    "conn = sigopt.Connection(client_token=SIGOPT_API_TOKEN)\n",
    "\n",
    "experiment_detail = conn.experiments(EXPERIMENT_ID).fetch()\n",
    "best_observation = experiment_detail.progress.best_observation\n",
    "best_parameters = best_observation.assignments\n",
    "\n",
    "moving_averages = (\n",
    "    best_parameters['slow_ma'],\n",
    "    best_parameters['fast_ma'],\n",
    "    )\n",
    "\n",
    "transform_params = {\n",
    "    'type': 'exp_transform',\n",
    "    'exp_param': best_parameters['exp_param'],\n",
    "    }\n",
    "\n",
    "best_param_list = [\n",
    "      moving_averages,\n",
    "      transform_params,\n",
    "      best_parameters['n_estimators'],\n",
    "      best_parameters['min_samples_split'],\n",
    "      best_parameters['min_samples_leaf'],\n",
    "      best_parameters['bet_threshold'],\n",
    "      ]"
   ]
  },
  {
   "cell_type": "markdown",
   "metadata": {},
   "source": [
    "We can see how SigOpt was able to find a winning combination of parameters after about 20 train/test evaluations. After 100 evaluations we stop the tuning phase and use the best parameters seen so far ($1200 profit) for running against the holdout dataset."
   ]
  },
  {
   "cell_type": "code",
   "execution_count": 4,
   "metadata": {},
   "outputs": [
    {
     "ename": "ImportError",
     "evalue": "No module named matplotlib",
     "output_type": "error",
     "traceback": [
      "\u001b[0;31m---------------------------------------------------------------------------\u001b[0m",
      "\u001b[0;31mImportError\u001b[0m                               Traceback (most recent call last)",
      "\u001b[0;32m<ipython-input-4-dbd5e2e59c83>\u001b[0m in \u001b[0;36m<module>\u001b[0;34m()\u001b[0m\n\u001b[0;32m----> 1\u001b[0;31m \u001b[0mget_ipython\u001b[0m\u001b[0;34m(\u001b[0m\u001b[0;34m)\u001b[0m\u001b[0;34m.\u001b[0m\u001b[0mmagic\u001b[0m\u001b[0;34m(\u001b[0m\u001b[0;34mu'matplotlib inline'\u001b[0m\u001b[0;34m)\u001b[0m\u001b[0;34m\u001b[0m\u001b[0m\n\u001b[0m\u001b[1;32m      2\u001b[0m \u001b[0;34m\u001b[0m\u001b[0m\n\u001b[1;32m      3\u001b[0m \u001b[0;32mimport\u001b[0m \u001b[0mmatplotlib\u001b[0m\u001b[0;34m\u001b[0m\u001b[0m\n\u001b[1;32m      4\u001b[0m \u001b[0;32mimport\u001b[0m \u001b[0mnumpy\u001b[0m \u001b[0;32mas\u001b[0m \u001b[0mnp\u001b[0m\u001b[0;34m\u001b[0m\u001b[0m\n\u001b[1;32m      5\u001b[0m \u001b[0;32mimport\u001b[0m \u001b[0mmatplotlib\u001b[0m\u001b[0;34m.\u001b[0m\u001b[0mpyplot\u001b[0m \u001b[0;32mas\u001b[0m \u001b[0mplt\u001b[0m\u001b[0;34m\u001b[0m\u001b[0m\n",
      "\u001b[0;32m/Users/benhsu/Developer/sigopt-examples/sigopt-beats-vegas/venv/lib/python2.7/site-packages/IPython/core/interactiveshell.pyc\u001b[0m in \u001b[0;36mmagic\u001b[0;34m(self, arg_s)\u001b[0m\n\u001b[1;32m   2158\u001b[0m         \u001b[0mmagic_name\u001b[0m\u001b[0;34m,\u001b[0m \u001b[0m_\u001b[0m\u001b[0;34m,\u001b[0m \u001b[0mmagic_arg_s\u001b[0m \u001b[0;34m=\u001b[0m \u001b[0marg_s\u001b[0m\u001b[0;34m.\u001b[0m\u001b[0mpartition\u001b[0m\u001b[0;34m(\u001b[0m\u001b[0;34m' '\u001b[0m\u001b[0;34m)\u001b[0m\u001b[0;34m\u001b[0m\u001b[0m\n\u001b[1;32m   2159\u001b[0m         \u001b[0mmagic_name\u001b[0m \u001b[0;34m=\u001b[0m \u001b[0mmagic_name\u001b[0m\u001b[0;34m.\u001b[0m\u001b[0mlstrip\u001b[0m\u001b[0;34m(\u001b[0m\u001b[0mprefilter\u001b[0m\u001b[0;34m.\u001b[0m\u001b[0mESC_MAGIC\u001b[0m\u001b[0;34m)\u001b[0m\u001b[0;34m\u001b[0m\u001b[0m\n\u001b[0;32m-> 2160\u001b[0;31m         \u001b[0;32mreturn\u001b[0m \u001b[0mself\u001b[0m\u001b[0;34m.\u001b[0m\u001b[0mrun_line_magic\u001b[0m\u001b[0;34m(\u001b[0m\u001b[0mmagic_name\u001b[0m\u001b[0;34m,\u001b[0m \u001b[0mmagic_arg_s\u001b[0m\u001b[0;34m)\u001b[0m\u001b[0;34m\u001b[0m\u001b[0m\n\u001b[0m\u001b[1;32m   2161\u001b[0m \u001b[0;34m\u001b[0m\u001b[0m\n\u001b[1;32m   2162\u001b[0m     \u001b[0;31m#-------------------------------------------------------------------------\u001b[0m\u001b[0;34m\u001b[0m\u001b[0;34m\u001b[0m\u001b[0m\n",
      "\u001b[0;32m/Users/benhsu/Developer/sigopt-examples/sigopt-beats-vegas/venv/lib/python2.7/site-packages/IPython/core/interactiveshell.pyc\u001b[0m in \u001b[0;36mrun_line_magic\u001b[0;34m(self, magic_name, line)\u001b[0m\n\u001b[1;32m   2079\u001b[0m                 \u001b[0mkwargs\u001b[0m\u001b[0;34m[\u001b[0m\u001b[0;34m'local_ns'\u001b[0m\u001b[0;34m]\u001b[0m \u001b[0;34m=\u001b[0m \u001b[0msys\u001b[0m\u001b[0;34m.\u001b[0m\u001b[0m_getframe\u001b[0m\u001b[0;34m(\u001b[0m\u001b[0mstack_depth\u001b[0m\u001b[0;34m)\u001b[0m\u001b[0;34m.\u001b[0m\u001b[0mf_locals\u001b[0m\u001b[0;34m\u001b[0m\u001b[0m\n\u001b[1;32m   2080\u001b[0m             \u001b[0;32mwith\u001b[0m \u001b[0mself\u001b[0m\u001b[0;34m.\u001b[0m\u001b[0mbuiltin_trap\u001b[0m\u001b[0;34m:\u001b[0m\u001b[0;34m\u001b[0m\u001b[0m\n\u001b[0;32m-> 2081\u001b[0;31m                 \u001b[0mresult\u001b[0m \u001b[0;34m=\u001b[0m \u001b[0mfn\u001b[0m\u001b[0;34m(\u001b[0m\u001b[0;34m*\u001b[0m\u001b[0margs\u001b[0m\u001b[0;34m,\u001b[0m\u001b[0;34m**\u001b[0m\u001b[0mkwargs\u001b[0m\u001b[0;34m)\u001b[0m\u001b[0;34m\u001b[0m\u001b[0m\n\u001b[0m\u001b[1;32m   2082\u001b[0m             \u001b[0;32mreturn\u001b[0m \u001b[0mresult\u001b[0m\u001b[0;34m\u001b[0m\u001b[0m\n\u001b[1;32m   2083\u001b[0m \u001b[0;34m\u001b[0m\u001b[0m\n",
      "\u001b[0;32m<decorator-gen-105>\u001b[0m in \u001b[0;36mmatplotlib\u001b[0;34m(self, line)\u001b[0m\n",
      "\u001b[0;32m/Users/benhsu/Developer/sigopt-examples/sigopt-beats-vegas/venv/lib/python2.7/site-packages/IPython/core/magic.pyc\u001b[0m in \u001b[0;36m<lambda>\u001b[0;34m(f, *a, **k)\u001b[0m\n\u001b[1;32m    186\u001b[0m     \u001b[0;31m# but it's overkill for just that one bit of state.\u001b[0m\u001b[0;34m\u001b[0m\u001b[0;34m\u001b[0m\u001b[0m\n\u001b[1;32m    187\u001b[0m     \u001b[0;32mdef\u001b[0m \u001b[0mmagic_deco\u001b[0m\u001b[0;34m(\u001b[0m\u001b[0marg\u001b[0m\u001b[0;34m)\u001b[0m\u001b[0;34m:\u001b[0m\u001b[0;34m\u001b[0m\u001b[0m\n\u001b[0;32m--> 188\u001b[0;31m         \u001b[0mcall\u001b[0m \u001b[0;34m=\u001b[0m \u001b[0;32mlambda\u001b[0m \u001b[0mf\u001b[0m\u001b[0;34m,\u001b[0m \u001b[0;34m*\u001b[0m\u001b[0ma\u001b[0m\u001b[0;34m,\u001b[0m \u001b[0;34m**\u001b[0m\u001b[0mk\u001b[0m\u001b[0;34m:\u001b[0m \u001b[0mf\u001b[0m\u001b[0;34m(\u001b[0m\u001b[0;34m*\u001b[0m\u001b[0ma\u001b[0m\u001b[0;34m,\u001b[0m \u001b[0;34m**\u001b[0m\u001b[0mk\u001b[0m\u001b[0;34m)\u001b[0m\u001b[0;34m\u001b[0m\u001b[0m\n\u001b[0m\u001b[1;32m    189\u001b[0m \u001b[0;34m\u001b[0m\u001b[0m\n\u001b[1;32m    190\u001b[0m         \u001b[0;32mif\u001b[0m \u001b[0mcallable\u001b[0m\u001b[0;34m(\u001b[0m\u001b[0marg\u001b[0m\u001b[0;34m)\u001b[0m\u001b[0;34m:\u001b[0m\u001b[0;34m\u001b[0m\u001b[0m\n",
      "\u001b[0;32m/Users/benhsu/Developer/sigopt-examples/sigopt-beats-vegas/venv/lib/python2.7/site-packages/IPython/core/magics/pylab.pyc\u001b[0m in \u001b[0;36mmatplotlib\u001b[0;34m(self, line)\u001b[0m\n\u001b[1;32m     98\u001b[0m             \u001b[0;32mprint\u001b[0m\u001b[0;34m(\u001b[0m\u001b[0;34m\"Available matplotlib backends: %s\"\u001b[0m \u001b[0;34m%\u001b[0m \u001b[0mbackends_list\u001b[0m\u001b[0;34m)\u001b[0m\u001b[0;34m\u001b[0m\u001b[0m\n\u001b[1;32m     99\u001b[0m         \u001b[0;32melse\u001b[0m\u001b[0;34m:\u001b[0m\u001b[0;34m\u001b[0m\u001b[0m\n\u001b[0;32m--> 100\u001b[0;31m             \u001b[0mgui\u001b[0m\u001b[0;34m,\u001b[0m \u001b[0mbackend\u001b[0m \u001b[0;34m=\u001b[0m \u001b[0mself\u001b[0m\u001b[0;34m.\u001b[0m\u001b[0mshell\u001b[0m\u001b[0;34m.\u001b[0m\u001b[0menable_matplotlib\u001b[0m\u001b[0;34m(\u001b[0m\u001b[0margs\u001b[0m\u001b[0;34m.\u001b[0m\u001b[0mgui\u001b[0m\u001b[0;34m)\u001b[0m\u001b[0;34m\u001b[0m\u001b[0m\n\u001b[0m\u001b[1;32m    101\u001b[0m             \u001b[0mself\u001b[0m\u001b[0;34m.\u001b[0m\u001b[0m_show_matplotlib_backend\u001b[0m\u001b[0;34m(\u001b[0m\u001b[0margs\u001b[0m\u001b[0;34m.\u001b[0m\u001b[0mgui\u001b[0m\u001b[0;34m,\u001b[0m \u001b[0mbackend\u001b[0m\u001b[0;34m)\u001b[0m\u001b[0;34m\u001b[0m\u001b[0m\n\u001b[1;32m    102\u001b[0m \u001b[0;34m\u001b[0m\u001b[0m\n",
      "\u001b[0;32m/Users/benhsu/Developer/sigopt-examples/sigopt-beats-vegas/venv/lib/python2.7/site-packages/IPython/core/interactiveshell.pyc\u001b[0m in \u001b[0;36menable_matplotlib\u001b[0;34m(self, gui)\u001b[0m\n\u001b[1;32m   2952\u001b[0m         \"\"\"\n\u001b[1;32m   2953\u001b[0m         \u001b[0;32mfrom\u001b[0m \u001b[0mIPython\u001b[0m\u001b[0;34m.\u001b[0m\u001b[0mcore\u001b[0m \u001b[0;32mimport\u001b[0m \u001b[0mpylabtools\u001b[0m \u001b[0;32mas\u001b[0m \u001b[0mpt\u001b[0m\u001b[0;34m\u001b[0m\u001b[0m\n\u001b[0;32m-> 2954\u001b[0;31m         \u001b[0mgui\u001b[0m\u001b[0;34m,\u001b[0m \u001b[0mbackend\u001b[0m \u001b[0;34m=\u001b[0m \u001b[0mpt\u001b[0m\u001b[0;34m.\u001b[0m\u001b[0mfind_gui_and_backend\u001b[0m\u001b[0;34m(\u001b[0m\u001b[0mgui\u001b[0m\u001b[0;34m,\u001b[0m \u001b[0mself\u001b[0m\u001b[0;34m.\u001b[0m\u001b[0mpylab_gui_select\u001b[0m\u001b[0;34m)\u001b[0m\u001b[0;34m\u001b[0m\u001b[0m\n\u001b[0m\u001b[1;32m   2955\u001b[0m \u001b[0;34m\u001b[0m\u001b[0m\n\u001b[1;32m   2956\u001b[0m         \u001b[0;32mif\u001b[0m \u001b[0mgui\u001b[0m \u001b[0;34m!=\u001b[0m \u001b[0;34m'inline'\u001b[0m\u001b[0;34m:\u001b[0m\u001b[0;34m\u001b[0m\u001b[0m\n",
      "\u001b[0;32m/Users/benhsu/Developer/sigopt-examples/sigopt-beats-vegas/venv/lib/python2.7/site-packages/IPython/core/pylabtools.pyc\u001b[0m in \u001b[0;36mfind_gui_and_backend\u001b[0;34m(gui, gui_select)\u001b[0m\n\u001b[1;32m    274\u001b[0m     \"\"\"\n\u001b[1;32m    275\u001b[0m \u001b[0;34m\u001b[0m\u001b[0m\n\u001b[0;32m--> 276\u001b[0;31m     \u001b[0;32mimport\u001b[0m \u001b[0mmatplotlib\u001b[0m\u001b[0;34m\u001b[0m\u001b[0m\n\u001b[0m\u001b[1;32m    277\u001b[0m \u001b[0;34m\u001b[0m\u001b[0m\n\u001b[1;32m    278\u001b[0m     \u001b[0;32mif\u001b[0m \u001b[0mgui\u001b[0m \u001b[0;32mand\u001b[0m \u001b[0mgui\u001b[0m \u001b[0;34m!=\u001b[0m \u001b[0;34m'auto'\u001b[0m\u001b[0;34m:\u001b[0m\u001b[0;34m\u001b[0m\u001b[0m\n",
      "\u001b[0;31mImportError\u001b[0m: No module named matplotlib"
     ]
    }
   ],
   "source": [
    "%matplotlib inline\n",
    "\n",
    "import matplotlib\n",
    "import numpy as np\n",
    "import matplotlib.pyplot as plt\n",
    "\n",
    "alist = list(conn.experiments(EXPERIMENT_ID).observations().fetch().iterate_pages())\n",
    "def ts(a):\n",
    "    created = a.to_json()['created']\n",
    "    return created\n",
    "alist = sorted(alist, key=ts)\n",
    "values = [a.value for a in alist]\n",
    "\n",
    "best_so_far = [max(values[0:i]) for i in range(1, len(values))]\n",
    "\n",
    "fig = plt.figure()\n",
    "ax = fig.add_subplot(111)\n",
    "ax.plot(best_so_far, 'bo-', markersize=3)\n",
    "ax.plot([0, 99], [0, 0], 'r--', alpha=0.5)\n",
    "\n",
    "ax.set_xlim(0, 98)"
   ]
  },
  {
   "cell_type": "markdown",
   "metadata": {},
   "source": [
    "We load in the data and train the model with the best SigOpt parameters"
   ]
  },
  {
   "cell_type": "code",
   "execution_count": 67,
   "metadata": {},
   "outputs": [
    {
     "name": "stdout",
     "output_type": "stream",
     "text": [
      "The autoreload extension is already loaded. To reload it, use:\n",
      "  %reload_ext autoreload\n"
     ]
    }
   ],
   "source": [
    "%load_ext autoreload\n",
    "%autoreload 2\n",
    "\n",
    "import pickle\n",
    "\n",
    "import predictor.read_data\n",
    "import predictor.evaluator\n",
    "import predictor.bet_reader\n",
    "from predictor.constant import SEASON_1314_END, SEASON_1415_END\n",
    "\n",
    "# This includes games from '00-'16 for the training/testing/holdout datasets\n",
    "box_scores = predictor.read_data.read_box_scores('boxscores/all_boxscores.json')\n",
    "all_stats = predictor.read_data.generate_all_stats(box_scores)\n",
    "historical_games = predictor.read_data.generate_historical_games(box_scores)\n",
    "historical_games_by_tuple = predictor.evaluator.get_historical_games_by_tuple(historical_games)\n",
    "\n",
    "# We only let the model train on the '00-'15 seasons for the holdout dataset\n",
    "historical_games_training_holdout = predictor.read_data.generate_historical_games(\n",
    "    box_scores,\n",
    "    max_date=SEASON_1415_END,\n",
    ")\n",
    "\n",
    "# This includes the Over/Under line for the current '15-'16 season (holdout dataset)\n",
    "# This file will be generated by predictor.stand_alone.run_example\n",
    "with open(\"bet_info.pkl\", \"rb\") as bi:\n",
    "    bet_info_old = pickle.load(bi)\n",
    "bet_info = predictor.bet_reader.transform_old_format(bet_info_old)"
   ]
  },
  {
   "cell_type": "code",
   "execution_count": 68,
   "metadata": {
    "collapsed": true
   },
   "outputs": [],
   "source": [
    "import predictor.model\n",
    "\n",
    "def build_model(moving_averages, transform_params, n_estimators, min_samples_split, min_samples_leaf, bet_threshold):\n",
    "    X, y = predictor.model.build_model_inputs(historical_games_training_holdout, all_stats, moving_averages, transform_params)\n",
    "    return predictor.model.build_model(X, y, n_estimators=n_estimators, min_samples_split=min_samples_split, min_samples_leaf=min_samples_leaf)"
   ]
  },
  {
   "cell_type": "markdown",
   "metadata": {},
   "source": [
    "Now we are ready to run the holdout dataset through the model with our SigOpt-tuned parameters. These are games that the model has never seen before and simulate how the model would do with real bets in Vegas."
   ]
  },
  {
   "cell_type": "code",
   "execution_count": 72,
   "metadata": {},
   "outputs": [],
   "source": [
    "from predictor.model import get_features\n",
    "import numpy\n",
    "import datetime\n",
    "\n",
    "from predictor.constant import SEASON_1516_START, SEASON_1516_END\n",
    "\n",
    "def simulate_bets(model, moving_averages, transform_params, n_estimators, min_samples_split, min_samples_leaf, bet_threshold, start_time=SEASON_1516_START, end_time=SEASON_1516_END):\n",
    "    prediction_by_game_tuple = {}\n",
    "    overunder_by_game_tuple = {}\n",
    "\n",
    "    winnings = 0\n",
    "    bet_games = 0\n",
    "    lowest = 0\n",
    "    highest = 0\n",
    "    earliest_bet = end_time\n",
    "    latest_bet = start_time\n",
    "    betting_days = (end_time - start_time).days\n",
    "    win_list = numpy.zeros(betting_days)\n",
    "\n",
    "    for game in bet_info:\n",
    "        if not start_time <= game['date'] <= end_time:\n",
    "            continue\n",
    "            \n",
    "        features = get_features(all_stats, game['home'], game['away'], game['date'], moving_averages, transform_params=transform_params)\n",
    "        if features is None:\n",
    "            # Game is too early to build slow moving averages\n",
    "            continue\n",
    "            \n",
    "        prediction = model.predict(numpy.array([features]))\n",
    "        game_tuple = tuple((game['date'], game['home'], game['away']))\n",
    "        if game_tuple not in historical_games_by_tuple:\n",
    "            continue\n",
    "        score = historical_games_by_tuple[game_tuple]\n",
    "        \n",
    "        if abs(prediction - game['overunder']) > bet_threshold:\n",
    "            day_idx = (game['date'] - start_time).days\n",
    "\n",
    "            if score < game['overunder'] and prediction < game['overunder']:\n",
    "                winnings += 100\n",
    "                win_list[day_idx] += 100\n",
    "            elif score > game['overunder'] and prediction > game['overunder']:\n",
    "                winnings += 100\n",
    "                win_list[day_idx] += 100\n",
    "            else:\n",
    "                winnings -= 110\n",
    "                win_list[day_idx] -= 110\n",
    "            bet_games += 1\n",
    "            if winnings < lowest:\n",
    "                lowest = winnings\n",
    "            if winnings > highest:\n",
    "                highest = winnings\n",
    "            if game['date'] < earliest_bet:\n",
    "                earliest_bet = game['date']\n",
    "            if game['date'] > latest_bet:\n",
    "                latest_bet = game['date']\n",
    "\n",
    "    print winnings, bet_games, lowest, highest\n",
    "    earliest_idx = (earliest_bet - start_time).days\n",
    "    latest_idx = (latest_bet - start_time).days\n",
    "    return win_list, earliest_idx, latest_idx"
   ]
  },
  {
   "cell_type": "markdown",
   "metadata": {},
   "source": [
    "Note that the underlying Random Forest regression model is stochastic in nature, so re-running this command will get you slightly different results. This is why we use many different trainings over the same data (and different test sets) for the tuning phase."
   ]
  },
  {
   "cell_type": "code",
   "execution_count": 73,
   "metadata": {},
   "outputs": [
    {
     "name": "stdout",
     "output_type": "stream",
     "text": [
      "970 163 -1290 1200\n"
     ]
    }
   ],
   "source": [
    "sigopt_model = build_model(*best_param_list)\n",
    "win_list, w_start, w_end = simulate_bets(sigopt_model, *best_param_list)"
   ]
  },
  {
   "cell_type": "code",
   "execution_count": 77,
   "metadata": {},
   "outputs": [
    {
     "name": "stdout",
     "output_type": "stream",
     "text": [
      "-710 142 -2210 50\n"
     ]
    }
   ],
   "source": [
    "untuned_params = ((10, 1), {'exp_param': 0.0, 'type': 'exp_transform'}, 10, 2, 1, 0.0)\n",
    "untuned_model = build_model(*untuned_params)\n",
    "win_list_untuned, u_start, u_end = simulate_bets(untuned_model, *untuned_params)"
   ]
  },
  {
   "cell_type": "markdown",
   "metadata": {},
   "source": [
    "Here we can plot how much profit SigOpt makes vs the untuned model over the holdout dataset."
   ]
  },
  {
   "cell_type": "code",
   "execution_count": 78,
   "metadata": {},
   "outputs": [
    {
     "data": {
      "text/plain": [
       "(0, 33)"
      ]
     },
     "execution_count": 78,
     "metadata": {},
     "output_type": "execute_result"
    },
    {
     "data": {
      "image/png": "[encoded data removed]",
      "text/plain": [
       "<matplotlib.figure.Figure at 0x1092e7490>"
      ]
     },
     "metadata": {},
     "output_type": "display_data"
    }
   ],
   "source": [
    "%matplotlib inline\n",
    "\n",
    "import matplotlib\n",
    "import matplotlib.pyplot as plt\n",
    "\n",
    "# get cummulative profit\n",
    "win_agg = numpy.array([sum(win_list[w_start:i]) for i in range(w_start + 1, w_end + 1)])\n",
    "win_agg_f = numpy.array([sum(win_list_untuned[u_start:i]) for i in range(u_start + 1, u_end + 1)])\n",
    "\n",
    "# align profit arrays\n",
    "bet_window_max = max(u_end, w_end)\n",
    "bet_window_min = min(u_start, w_start)\n",
    "sigopt_money = numpy.zeros(bet_window_max - bet_window_min)\n",
    "untuned_money = numpy.zeros(bet_window_max - bet_window_min)\n",
    "if u_start <= w_start:\n",
    "    untuned_money[0:u_end - u_start] += win_agg_f\n",
    "    sigopt_money[w_start - u_start:w_end - u_start] += win_agg\n",
    "else:\n",
    "    \n",
    "    sigopt_money[0:w_end - w_start] += win_agg \n",
    "    untuned_money[u_start - w_start:u_end - w_start] += win_agg_f\n",
    "\n",
    "fig = plt.figure()\n",
    "ax = fig.add_subplot(111)\n",
    "ax.plot(sigopt_money, 'b')\n",
    "ax.plot(untuned_money, 'k--', alpha=0.5)\n",
    "ax.plot([0, len(win_agg)], [0, 0], 'r--', alpha=0.5)\n",
    "\n",
    "xticks = list(xrange(0, len(win_agg), 10))\n",
    "xticklabels = [(SEASON_1516_START + datetime.timedelta(days=t + bet_window_min)).strftime('%b %d') for t in xticks]\n",
    "ax.set_xticks(xticks)\n",
    "ax.set_xticklabels(xticklabels)\n",
    "plt.xticks(rotation=20)\n",
    "\n",
    "ax.set_xlim(0,bet_window_max - bet_window_min - 1)"
   ]
  }
 ],
 "metadata": {
  "kernelspec": {
   "display_name": "Python 2",
   "language": "python",
   "name": "python2"
  },
  "language_info": {
   "codemirror_mode": {
    "name": "ipython",
    "version": 2
   },
   "file_extension": ".py",
   "mimetype": "text/x-python",
   "name": "python",
   "nbconvert_exporter": "python",
   "pygments_lexer": "ipython2",
   "version": "2.7.10"
  }
 },
 "nbformat": 4,
 "nbformat_minor": 1
}
